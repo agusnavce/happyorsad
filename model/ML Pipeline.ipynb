{
 "cells": [
  {
   "cell_type": "code",
   "execution_count": 1,
   "metadata": {},
   "outputs": [
    {
     "name": "stderr",
     "output_type": "stream",
     "text": [
      "Using TensorFlow backend.\n"
     ]
    }
   ],
   "source": [
    "import Augmentor\n",
    "import numpy as np\n",
    "import keras\n",
    "from keras.models import Sequential\n",
    "from keras.layers import Dense, Dropout, Flatten\n",
    "from keras.layers.convolutional import Conv2D, MaxPooling2D\n",
    "from keras.utils import np_utils\n",
    "\n",
    "import matplotlib.pyplot as plt\n",
    "%matplotlib inline\n",
    "\n",
    "import warnings\n",
    "warnings.filterwarnings('ignore')"
   ]
  },
  {
   "cell_type": "code",
   "execution_count": 2,
   "metadata": {},
   "outputs": [
    {
     "name": "stdout",
     "output_type": "stream",
     "text": [
      "Initialised with 32 image(s) found.\n",
      "Output directory set to ./images/output."
     ]
    }
   ],
   "source": [
    "p = Augmentor.Pipeline(\"./images\")"
   ]
  },
  {
   "cell_type": "code",
   "execution_count": 3,
   "metadata": {},
   "outputs": [],
   "source": [
    "# define the CNN model\n",
    "def cnn_model():\n",
    "    # create model\n",
    "    model = Sequential()\n",
    "    model.add(Conv2D(30, (5, 5), input_shape=(28, 28, 4), activation='relu'))\n",
    "    model.add(MaxPooling2D(pool_size=(2, 2)))\n",
    "    model.add(Conv2D(15, (3, 3), activation='relu'))\n",
    "    model.add(MaxPooling2D(pool_size=(2, 2)))\n",
    "    model.add(Dropout(0.2))\n",
    "    model.add(Flatten())\n",
    "    model.add(Dense(128, activation='relu'))\n",
    "    model.add(Dense(50, activation='relu'))\n",
    "    model.add(Dense(num_classes, activation='softmax'))\n",
    "    # Compile model\n",
    "    model.compile(loss='categorical_crossentropy', optimizer='adam', metrics=['accuracy'])\n",
    "    return model"
   ]
  },
  {
   "cell_type": "code",
   "execution_count": 4,
   "metadata": {},
   "outputs": [
    {
     "name": "stdout",
     "output_type": "stream",
     "text": [
      "WARNING:tensorflow:From /home/anavcevich/.local/lib/python3.7/site-packages/keras/backend/tensorflow_backend.py:74: The name tf.get_default_graph is deprecated. Please use tf.compat.v1.get_default_graph instead.\n",
      "\n",
      "WARNING:tensorflow:From /home/anavcevich/.local/lib/python3.7/site-packages/keras/backend/tensorflow_backend.py:517: The name tf.placeholder is deprecated. Please use tf.compat.v1.placeholder instead.\n",
      "\n",
      "WARNING:tensorflow:From /home/anavcevich/.local/lib/python3.7/site-packages/keras/backend/tensorflow_backend.py:4138: The name tf.random_uniform is deprecated. Please use tf.random.uniform instead.\n",
      "\n",
      "WARNING:tensorflow:From /home/anavcevich/.local/lib/python3.7/site-packages/keras/backend/tensorflow_backend.py:3976: The name tf.nn.max_pool is deprecated. Please use tf.nn.max_pool2d instead.\n",
      "\n",
      "WARNING:tensorflow:From /home/anavcevich/.local/lib/python3.7/site-packages/keras/backend/tensorflow_backend.py:133: The name tf.placeholder_with_default is deprecated. Please use tf.compat.v1.placeholder_with_default instead.\n",
      "\n",
      "WARNING:tensorflow:From /home/anavcevich/.local/lib/python3.7/site-packages/keras/backend/tensorflow_backend.py:3445: calling dropout (from tensorflow.python.ops.nn_ops) with keep_prob is deprecated and will be removed in a future version.\n",
      "Instructions for updating:\n",
      "Please use `rate` instead of `keep_prob`. Rate should be set to `rate = 1 - keep_prob`.\n",
      "WARNING:tensorflow:From /home/anavcevich/.local/lib/python3.7/site-packages/keras/optimizers.py:790: The name tf.train.Optimizer is deprecated. Please use tf.compat.v1.train.Optimizer instead.\n",
      "\n",
      "WARNING:tensorflow:From /home/anavcevich/.local/lib/python3.7/site-packages/keras/backend/tensorflow_backend.py:3295: The name tf.log is deprecated. Please use tf.math.log instead.\n",
      "\n"
     ]
    }
   ],
   "source": [
    "num_classes = 2\n",
    "model = cnn_model()\n"
   ]
  },
  {
   "cell_type": "code",
   "execution_count": 5,
   "metadata": {},
   "outputs": [
    {
     "name": "stdout",
     "output_type": "stream",
     "text": [
      "_________________________________________________________________\n",
      "Layer (type)                 Output Shape              Param #   \n",
      "=================================================================\n",
      "conv2d_1 (Conv2D)            (None, 24, 24, 30)        3030      \n",
      "_________________________________________________________________\n",
      "max_pooling2d_1 (MaxPooling2 (None, 12, 12, 30)        0         \n",
      "_________________________________________________________________\n",
      "conv2d_2 (Conv2D)            (None, 10, 10, 15)        4065      \n",
      "_________________________________________________________________\n",
      "max_pooling2d_2 (MaxPooling2 (None, 5, 5, 15)          0         \n",
      "_________________________________________________________________\n",
      "dropout_1 (Dropout)          (None, 5, 5, 15)          0         \n",
      "_________________________________________________________________\n",
      "flatten_1 (Flatten)          (None, 375)               0         \n",
      "_________________________________________________________________\n",
      "dense_1 (Dense)              (None, 128)               48128     \n",
      "_________________________________________________________________\n",
      "dense_2 (Dense)              (None, 50)                6450      \n",
      "_________________________________________________________________\n",
      "dense_3 (Dense)              (None, 2)                 102       \n",
      "=================================================================\n",
      "Total params: 61,775\n",
      "Trainable params: 61,775\n",
      "Non-trainable params: 0\n",
      "_________________________________________________________________\n"
     ]
    }
   ],
   "source": [
    "model.summary()"
   ]
  },
  {
   "cell_type": "code",
   "execution_count": 6,
   "metadata": {},
   "outputs": [],
   "source": [
    "epochs = 30\n",
    "batch_size = 2048\n",
    "g = p.keras_generator(batch_size=batch_size)\n",
    "images, labels = next(g)"
   ]
  },
  {
   "cell_type": "code",
   "execution_count": 7,
   "metadata": {},
   "outputs": [
    {
     "name": "stdout",
     "output_type": "stream",
     "text": [
      "WARNING:tensorflow:From /usr/local/lib/python3.7/site-packages/tensorflow/python/ops/math_grad.py:1250: add_dispatch_support.<locals>.wrapper (from tensorflow.python.ops.array_ops) is deprecated and will be removed in a future version.\n",
      "Instructions for updating:\n",
      "Use tf.where in 2.0, which has the same broadcast rule as np.where\n",
      "Epoch 1/30\n",
      " - 2s - loss: 0.7126 - acc: 0.4536\n",
      "Epoch 2/30\n",
      " - 1s - loss: 0.6899 - acc: 0.5396\n",
      "Epoch 3/30\n",
      " - 1s - loss: 0.6614 - acc: 0.5913\n",
      "Epoch 4/30\n",
      " - 1s - loss: 0.6396 - acc: 0.7324\n",
      "Epoch 5/30\n",
      " - 1s - loss: 0.6228 - acc: 0.7915\n",
      "Epoch 6/30\n",
      " - 1s - loss: 0.6032 - acc: 0.7578\n",
      "Epoch 7/30\n",
      " - 1s - loss: 0.5742 - acc: 0.7856\n",
      "Epoch 8/30\n",
      " - 1s - loss: 0.5356 - acc: 0.9136\n",
      "Epoch 9/30\n",
      " - 1s - loss: 0.5066 - acc: 0.9272\n",
      "Epoch 10/30\n",
      " - 1s - loss: 0.4751 - acc: 0.9136\n",
      "Epoch 11/30\n",
      " - 1s - loss: 0.4302 - acc: 0.9434\n",
      "Epoch 12/30\n",
      " - 1s - loss: 0.3936 - acc: 0.9614\n",
      "Epoch 13/30\n",
      " - 1s - loss: 0.3555 - acc: 0.9644\n",
      "Epoch 14/30\n",
      " - 1s - loss: 0.3183 - acc: 0.9678\n",
      "Epoch 15/30\n",
      " - 1s - loss: 0.2702 - acc: 0.9893\n",
      "Epoch 16/30\n",
      " - 1s - loss: 0.2297 - acc: 0.9883\n",
      "Epoch 17/30\n",
      " - 1s - loss: 0.1903 - acc: 0.9917\n",
      "Epoch 18/30\n",
      " - 1s - loss: 0.1597 - acc: 0.9878\n",
      "Epoch 19/30\n",
      " - 1s - loss: 0.1242 - acc: 0.9946\n",
      "Epoch 20/30\n",
      " - 1s - loss: 0.0925 - acc: 0.9971\n",
      "Epoch 21/30\n",
      " - 1s - loss: 0.0728 - acc: 0.9971\n",
      "Epoch 22/30\n",
      " - 1s - loss: 0.0563 - acc: 0.9961\n",
      "Epoch 23/30\n",
      " - 1s - loss: 0.0444 - acc: 0.9985\n",
      "Epoch 24/30\n",
      " - 1s - loss: 0.0324 - acc: 0.9990\n",
      "Epoch 25/30\n",
      " - 1s - loss: 0.0229 - acc: 0.9990\n",
      "Epoch 26/30\n",
      " - 1s - loss: 0.0174 - acc: 1.0000\n",
      "Epoch 27/30\n",
      " - 1s - loss: 0.0144 - acc: 1.0000\n",
      "Epoch 28/30\n",
      " - 1s - loss: 0.0098 - acc: 1.0000\n",
      "Epoch 29/30\n",
      " - 1s - loss: 0.0079 - acc: 1.0000\n",
      "Epoch 30/30\n",
      " - 1s - loss: 0.0047 - acc: 1.0000\n"
     ]
    }
   ],
   "source": [
    "h = model.fit_generator(g, steps_per_epoch=len(p.augmentor_images)/batch_size, epochs=epochs, verbose=2)"
   ]
  },
  {
   "cell_type": "code",
   "execution_count": 10,
   "metadata": {},
   "outputs": [],
   "source": [
    "model.save('./model.h5')"
   ]
  },
  {
   "cell_type": "code",
   "execution_count": null,
   "metadata": {},
   "outputs": [],
   "source": []
  }
 ],
 "metadata": {
  "kernelspec": {
   "display_name": "Python 3",
   "language": "python",
   "name": "python3"
  },
  "language_info": {
   "codemirror_mode": {
    "name": "ipython",
    "version": 3
   },
   "file_extension": ".py",
   "mimetype": "text/x-python",
   "name": "python",
   "nbconvert_exporter": "python",
   "pygments_lexer": "ipython3",
   "version": "3.7.1"
  }
 },
 "nbformat": 4,
 "nbformat_minor": 2
}
